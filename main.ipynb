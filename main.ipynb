{
 "cells": [
  {
   "cell_type": "code",
   "execution_count": null,
   "id": "ca3728d7",
   "metadata": {},
   "outputs": [],
   "source": [
    "import utils\n",
    "import embeddings\n",
    "from experiments import Experiments\n",
    "import numpy as np\n",
    "from vectors import vectors\n",
    "from cosine_sim import BiweeklyCosineDissimilarity\n",
    "from cumulative_cosine_sim import BiweeklyCumulativeDissimilarity\n",
    "from mmd_calculation import BiweeklyMMD\n",
    "from change_point_detection import ChangePointDetector"
   ]
  },
  {
   "cell_type": "code",
   "execution_count": null,
   "id": "4c0d4025",
   "metadata": {},
   "outputs": [],
   "source": [
    "path_to_dataset = 'fakerecogna_abstrativo.xlsx'\n",
    "\n",
    "# formatting the dataset\n",
    "utils.FakeRecogna2(path_to_dataset)\n",
    "\n",
    "dataset = utils.load()"
   ]
  },
  {
   "cell_type": "code",
   "execution_count": null,
   "id": "6079ea9c",
   "metadata": {},
   "outputs": [],
   "source": [
    "# generate embeddings\n",
    "doc2vec = embeddings.Doc2Vec()\n",
    "word2vec = embeddings.Word2Vec()\n",
    "\n",
    "word_embeddings = [np.zeros((dataset.shape[0],1024)),\n",
    "           np.zeros((dataset.shape[0],100))]\n",
    "\n",
    "word_embeddings[0] = doc2vec.getVector(dataset)\n",
    "np.save('.\\\\fakerecogna2\\\\word_embeddings\\\\BERT.npy', word_embeddings[0])\n",
    "word_embeddings[1] = word2vec.getVector(dataset)\n",
    "np.save('.\\\\fakerecogna2\\\\word_embeddings\\\\word2vec.npy', word_embeddings[1])"
   ]
  },
  {
   "cell_type": "code",
   "execution_count": null,
   "id": "7ffa8176",
   "metadata": {},
   "outputs": [],
   "source": [
    "# loading the dataset\n",
    "models = ['BERT','word2vec']\n",
    "dataset, word_embeddings = utils.load(models)"
   ]
  },
  {
   "cell_type": "code",
   "execution_count": null,
   "id": "adbd2c1f",
   "metadata": {},
   "outputs": [],
   "source": [
    "# preparing the experiments\n",
    "dataset = dataset.loc[(dataset.date >= '2020-01-01') & (dataset.date <= '2021-12-31')]\n",
    "exp = Experiments(dataset,size=40,N=5)"
   ]
  },
  {
   "cell_type": "code",
   "execution_count": null,
   "id": "a2357fb4",
   "metadata": {},
   "outputs": [],
   "source": [
    "# tests on chronological data\n",
    "results_BERT = exp.different_distribution(word_embeddings['BERT'])\n",
    "results_word2vec = exp.different_distribution(word_embeddings['word2vec'])"
   ]
  },
  {
   "cell_type": "code",
   "execution_count": null,
   "id": "485553e2",
   "metadata": {},
   "outputs": [],
   "source": [
    "# tests on random data\n",
    "results_BERT = exp.same_distribution_test(word_embeddings['BERT'])\n",
    "results_word2vec = exp.same_distribution_test(word_embeddings['word2vec'])"
   ]
  },
  {
   "cell_type": "code",
   "execution_count": null,
   "id": "638008d5",
   "metadata": {},
   "outputs": [],
   "source": [
    "import pandas as pd\n",
    "\n",
    "# WMD on chronological data\n",
    "WMD = exp.WMD()\n",
    "dt_wmd = pd.DataFrame(columns=['label', 'week', 'mwmd'])\n",
    "weeks = pd.date_range('2020-01-01','2021-12-31', freq='2W').to_pydatetime()\n",
    "\n",
    "for i in range(1,WMD.shape[1]):\n",
    "    temp = WMD[0][i].mean(axis=1).mean(axis=2)[i-1,:].T\n",
    "    dt_wmd = pd.concat([dt_wmd,pd.DataFrame({'mwmd':temp, 'label':True, 'week':weeks[i-1]})])\n",
    "for i in range(1,WMD.shape[1]):\n",
    "    temp = WMD[1][i].mean(axis=1).mean(axis=2)[i-1,:].T\n",
    "    dt_wmd = pd.concat([dt_wmd,pd.DataFrame({'mwmd':temp, 'label':False, 'week':weeks[i-1]})])\n",
    "dt_wmd.reset_index(drop=True, inplace=True)"
   ]
  },
  {
   "cell_type": "code",
   "execution_count": null,
   "id": "d67065f6",
   "metadata": {},
   "outputs": [],
   "source": [
    "# WMD on random data\n",
    "WMD = exp.same_distribution_WMD()\n",
    "dt_wmd = pd.DataFrame(columns=['label', 'week', 'mwmd'])\n",
    "weeks = pd.date_range('2020-01-01','2021-12-31', freq='2W').to_pydatetime()\n",
    "\n",
    "for i in range(1,WMD.shape[1]):\n",
    "    temp = WMD[0][i].mean(axis=1).mean(axis=2)[i-1,:].T\n",
    "    dt_wmd = pd.concat([dt_wmd,pd.DataFrame({'mwmd':temp, 'label':True, 'week':weeks[i-1]})])\n",
    "for i in range(1,WMD.shape[1]):\n",
    "    temp = WMD[1][i].mean(axis=1).mean(axis=2)[i-1,:].T\n",
    "    dt_wmd = pd.concat([dt_wmd,pd.DataFrame({'mwmd':temp, 'label':False, 'week':weeks[i-1]})])\n",
    "dt_wmd.reset_index(drop=True, inplace=True)"
   ]
  },
  {
   "cell_type": "code",
   "execution_count": null,
   "id": "32c2fe19",
   "metadata": {},
   "outputs": [],
   "source": [
    "emb = vectors(\n",
    "    model_name=\"neuralmind/bert-large-portuguese-cased\",\n",
    "    model_kwargs={\"device\": \"cuda\"},\n",
    "    encode_kwargs={\"normalize_embeddings\": False},\n",
    ")\n",
    "\n",
    "df = emb.attach(dataset, text_col=\"text\")"
   ]
  },
  {
   "cell_type": "code",
   "execution_count": null,
   "id": "5fd862e0",
   "metadata": {},
   "outputs": [],
   "source": [
    "# cosine similarity\n",
    "\n",
    "cos = BiweeklyCosineDissimilarity(\n",
    "    df=df,\n",
    "    date_col=\"date\",\n",
    "    emb_col=\"embeddings\",\n",
    "    freq=\"2W\",\n",
    ")\n",
    "\n",
    "cos.compute()"
   ]
  },
  {
   "cell_type": "code",
   "execution_count": null,
   "id": "a37ebf89",
   "metadata": {},
   "outputs": [],
   "source": [
    "# cumulative cosine similarity\n",
    "\n",
    "cum_cos = BiweeklyCumulativeDissimilarity(\n",
    "    df=df,\n",
    "    date_col=\"date\",\n",
    "    emb_col=\"embeddings\",\n",
    "    freq=\"2W\",\n",
    ")\n",
    "\n",
    "cum_cos.compute()"
   ]
  },
  {
   "cell_type": "code",
   "execution_count": null,
   "id": "e4a9379b",
   "metadata": {},
   "outputs": [],
   "source": [
    "# change point detection\n",
    "\n",
    "cpd = ChangePointDetector(\n",
    "    df=df,\n",
    "    date_col=\"date\",\n",
    "    emb_col=\"embeddings\",\n",
    "    freq=\"D\",\n",
    "    model=\"rbf\",\n",
    "    algo=\"binseg\")"
   ]
  },
  {
   "cell_type": "code",
   "execution_count": null,
   "id": "07c7ee02",
   "metadata": {},
   "outputs": [],
   "source": [
    "# MMD\n",
    "\n",
    "mmd = BiweeklyMMD(\n",
    "    df=df,\n",
    "    date_col=\"date\",\n",
    "    emb_col=\"embeddings\",\n",
    "    freq=\"2W\",\n",
    "    backend=\"pytorch\",\n",
    "    p_val=0.05,\n",
    ")\n",
    "\n",
    "mmd.compute()"
   ]
  }
 ],
 "metadata": {
  "kernelspec": {
   "display_name": "Python 3",
   "language": "python",
   "name": "python3"
  },
  "language_info": {
   "codemirror_mode": {
    "name": "ipython",
    "version": 3
   },
   "file_extension": ".py",
   "mimetype": "text/x-python",
   "name": "python",
   "nbconvert_exporter": "python",
   "pygments_lexer": "ipython3",
   "version": "3.10.0"
  }
 },
 "nbformat": 4,
 "nbformat_minor": 5
}
