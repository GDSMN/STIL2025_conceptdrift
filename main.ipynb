{
 "cells": [
  {
   "cell_type": "code",
   "execution_count": null,
   "id": "ca3728d7",
   "metadata": {},
   "outputs": [],
   "source": [
    "import utils\n",
    "import embeddings\n",
    "from experiments import Experiments\n",
    "import numpy as np"
   ]
  },
  {
   "cell_type": "code",
   "execution_count": null,
   "id": "4c0d4025",
   "metadata": {},
   "outputs": [],
   "source": [
    "path_to_dataset = 'fakerecogna_abstrativo.xlsx'\n",
    "\n",
    "# formatting the dataset\n",
    "utils.FakeRecogna2(path_to_dataset)\n",
    "\n",
    "dataset = utils.load()"
   ]
  },
  {
   "cell_type": "code",
   "execution_count": null,
   "id": "6079ea9c",
   "metadata": {},
   "outputs": [],
   "source": [
    "# generate embeddings\n",
    "doc2vec = embeddings.Doc2Vec()\n",
    "word2vec = embeddings.Word2Vec()\n",
    "\n",
    "vectors = [np.zeros((dataset.shape[0],1024)),\n",
    "           np.zeros((dataset.shape[0],100))]\n",
    "\n",
    "vectors[0] = doc2vec.getVector(dataset)\n",
    "np.save('.\\\\fakerecogna2\\\\vectors\\\\BERT.npy', vectors[0])\n",
    "vectors[1] = word2vec.getVector(dataset)\n",
    "np.save('.\\\\fakerecogna2\\\\vectors\\\\word2vec.npy', vectors[1])"
   ]
  },
  {
   "cell_type": "code",
   "execution_count": null,
   "id": "7ffa8176",
   "metadata": {},
   "outputs": [],
   "source": [
    "# loading the dataset\n",
    "models = ['BERT','word2vec']\n",
    "dataset, vectors = utils.load(models)"
   ]
  },
  {
   "cell_type": "code",
   "execution_count": null,
   "id": "adbd2c1f",
   "metadata": {},
   "outputs": [],
   "source": [
    "# preparing the experiments\n",
    "dataset = dataset.loc[(dataset.date >= '2020-01-01') & (dataset.date <= '2021-12-31')]\n",
    "exp = Experiments(dataset, size=10,N=1)"
   ]
  },
  {
   "cell_type": "code",
   "execution_count": null,
   "id": "a2357fb4",
   "metadata": {},
   "outputs": [],
   "source": [
    "# tests on chronological data\n",
    "results_BERT = exp.different_distribution(vectors['BERT'])\n",
    "results_word2vec = exp.different_distribution(vectors['word2vec'])"
   ]
  },
  {
   "cell_type": "code",
   "execution_count": null,
   "id": "485553e2",
   "metadata": {},
   "outputs": [],
   "source": [
    "# tests on random data\n",
    "results_BERT = exp.same_distribution_test(vectors['BERT'])\n",
    "results_word2vec = exp.same_distribution_test(vectors['word2vec'])"
   ]
  },
  {
   "cell_type": "code",
   "execution_count": null,
   "id": "638008d5",
   "metadata": {},
   "outputs": [],
   "source": [
    "import pandas as pd\n",
    "\n",
    "# WMD on chronological data\n",
    "WMD = exp.WMD()\n",
    "dt_wmd = pd.DataFrame(columns=['label', 'week', 'mwmd'])\n",
    "weeks = pd.date_range('2020-01-01','2021-12-31', freq='2W').to_pydatetime()\n",
    "\n",
    "for i in range(1,WMD.shape[1]):\n",
    "    temp = WMD[0][i].mean(axis=1).mean(axis=2)[i-1,:].T\n",
    "    dt_wmd = pd.concat([dt_wmd,pd.DataFrame({'mwmd':temp, 'label':True, 'week':weeks[i-1]})])\n",
    "for i in range(1,WMD.shape[1]):\n",
    "    temp = WMD[1][i].mean(axis=1).mean(axis=2)[i-1,:].T\n",
    "    dt_wmd = pd.concat([dt_wmd,pd.DataFrame({'mwmd':temp, 'label':False, 'week':weeks[i-1]})])\n",
    "dt_wmd.reset_index(drop=True, inplace=True)"
   ]
  },
  {
   "cell_type": "code",
   "execution_count": null,
   "id": "d67065f6",
   "metadata": {},
   "outputs": [],
   "source": [
    "# WMD on random data\n",
    "WMD = exp.same_distribution_WMD()\n",
    "dt_wmd = pd.DataFrame(columns=['label', 'week', 'mwmd'])\n",
    "weeks = pd.date_range('2020-01-01','2021-12-31', freq='2W').to_pydatetime()\n",
    "\n",
    "for i in range(1,WMD.shape[1]):\n",
    "    temp = WMD[0][i].mean(axis=1).mean(axis=2)[i-1,:].T\n",
    "    dt_wmd = pd.concat([dt_wmd,pd.DataFrame({'mwmd':temp, 'label':True, 'week':weeks[i-1]})])\n",
    "for i in range(1,WMD.shape[1]):\n",
    "    temp = WMD[1][i].mean(axis=1).mean(axis=2)[i-1,:].T\n",
    "    dt_wmd = pd.concat([dt_wmd,pd.DataFrame({'mwmd':temp, 'label':False, 'week':weeks[i-1]})])\n",
    "dt_wmd.reset_index(drop=True, inplace=True)"
   ]
  }
 ],
 "metadata": {
  "kernelspec": {
   "display_name": "Python 3",
   "language": "python",
   "name": "python3"
  },
  "language_info": {
   "codemirror_mode": {
    "name": "ipython",
    "version": 3
   },
   "file_extension": ".py",
   "mimetype": "text/x-python",
   "name": "python",
   "nbconvert_exporter": "python",
   "pygments_lexer": "ipython3",
   "version": "3.10.0"
  }
 },
 "nbformat": 4,
 "nbformat_minor": 5
}
