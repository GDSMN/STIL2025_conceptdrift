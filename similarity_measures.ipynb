{
  "nbformat": 4,
  "nbformat_minor": 0,
  "metadata": {
    "colab": {
      "provenance": []
    },
    "kernelspec": {
      "name": "python3",
      "display_name": "Python 3"
    },
    "language_info": {
      "name": "python"
    }
  },
  "cells": [
    {
      "cell_type": "code",
      "source": [
        "!pip install -q ruptures alibi-detect langchain-huggingface sentence-transformers\n",
        "import pandas as pd\n",
        "import matplotlib.pyplot as plt\n",
        "import sys, pathlib\n",
        "from vectors import vectors\n",
        "from cosine_sim import BiweeklyCosineDissimilarity\n",
        "from cumulative_cosine_sim import BiweeklyCumulativeDissimilarity\n",
        "from mmd_calculation import BiweeklyMMD\n",
        "from change_point_detection import ChangePointDetector\n",
        "import utils"
      ],
      "metadata": {
        "id": "ryQ8x1-efmOt"
      },
      "execution_count": null,
      "outputs": []
    },
    {
      "cell_type": "code",
      "source": [
        "# Data preparation\n",
        "\n",
        "path_to_dataset = 'fakerecogna_abstrativo.xlsx'\n",
        "utils.FakeRecogna2(path_to_dataset)\n",
        "df = utils.load()\n",
        "\n",
        "\n",
        "emb = vectors(\n",
        "    model_name=\"neuralmind/bert-large-portuguese-cased\",\n",
        "    model_kwargs={\"device\": \"cuda\"},\n",
        "    encode_kwargs={\"normalize_embeddings\": False},\n",
        ")\n",
        "\n",
        "df = df.loc[(df.date >= '2020-01-01') & (df.date <= '2021-12-31')]\n",
        "df = emb.attach(df, text_col=\"text\")"
      ],
      "metadata": {
        "id": "wCQ0hYwqoDzv"
      },
      "execution_count": null,
      "outputs": []
    },
    {
      "cell_type": "code",
      "source": [
        "# cosine similarity\n",
        "\n",
        "cos = BiweeklyCosineDissimilarity(\n",
        "    df=df,\n",
        "    date_col=\"date\",\n",
        "    emb_col=\"embeddings\",\n",
        "    freq=\"2W\",\n",
        ")\n",
        "\n",
        "cos.compute()"
      ],
      "metadata": {
        "id": "Bbr6Vt66uLWW"
      },
      "execution_count": null,
      "outputs": []
    },
    {
      "cell_type": "code",
      "source": [
        "# cumulative cosine similarity\n",
        "\n",
        "cum_cos = BiweeklyCumulativeDissimilarity(\n",
        "    df=df,\n",
        "    date_col=\"date\",\n",
        "    emb_col=\"embeddings\",\n",
        "    freq=\"2W\",\n",
        ")\n",
        "\n",
        "cum_cos.compute()"
      ],
      "metadata": {
        "id": "NsTcEmvGuP_L"
      },
      "execution_count": null,
      "outputs": []
    },
    {
      "cell_type": "code",
      "source": [
        "# change point detection\n",
        "\n",
        "cpd = ChangePointDetector(\n",
        "    df=df,\n",
        "    date_col=\"date\",\n",
        "    emb_col=\"embeddings\",\n",
        "    freq=\"D\",\n",
        "    model=\"rbf\",\n",
        "    algo=\"binseg\")"
      ],
      "metadata": {
        "id": "fwYRr3fsuUY5"
      },
      "execution_count": null,
      "outputs": []
    },
    {
      "cell_type": "code",
      "source": [
        "# MMD\n",
        "\n",
        "mmd = BiweeklyMMD(\n",
        "    df=df,\n",
        "    date_col=\"date\",\n",
        "    emb_col=\"embeddings\",\n",
        "    freq=\"2W\",\n",
        "    backend=\"pytorch\",\n",
        "    p_val=0.05,\n",
        ")\n",
        "\n",
        "mmd.compute()"
      ],
      "metadata": {
        "id": "oig7aXVBuEBN"
      },
      "execution_count": null,
      "outputs": []
    }
  ]
}